{
 "cells": [
  {
   "cell_type": "code",
   "execution_count": 41,
   "metadata": {},
   "outputs": [
    {
     "name": "stdout",
     "output_type": "stream",
     "text": [
      "['01', '02', '03', '04', '05', '06', '07', '08', '09', '10', '11', '12', '13', '14', '15', '16', '17', '18', '19', '20', '21', '22', '23', '24', '25', '26', '27']\n"
     ]
    }
   ],
   "source": [
    "#Setup\n",
    "alphabet_dictionary = {}\n",
    "number_dictionary = {}\n",
    "alphabet = [chr(i) for i in range(ord('a'),ord('z')+1)]\n",
    "alphabet.append(' ')\n",
    "\n",
    "numbers = [str(i).zfill(2) for i in range(1,28)]\n",
    "print(numbers)"
   ]
  },
  {
   "cell_type": "code",
   "execution_count": 44,
   "metadata": {},
   "outputs": [
    {
     "name": "stdout",
     "output_type": "stream",
     "text": [
      "{'01': 'a', '02': 'b', '03': 'c', '04': 'd', '05': 'e', '06': 'f', '07': 'g', '08': 'h', '09': 'i', '10': 'j', '11': 'k', '12': 'l', '13': 'm', '14': 'n', '15': 'o', '16': 'p', '17': 'q', '18': 'r', '19': 's', '20': 't', '21': 'u', '22': 'v', '23': 'w', '24': 'x', '25': 'y', '26': 'z', '27': ' '}\n"
     ]
    }
   ],
   "source": [
    "#Initialize dictionaries and create\n",
    "count = 1\n",
    "for letter in alphabet:\n",
    "    alphabet_dictionary[letter] = str(count).zfill(2)\n",
    "    count += 1\n",
    "\n",
    "count0 = 1\n",
    "for num in numbers:\n",
    "    number_dictionary[num] = alphabet[int(num) - 1]"
   ]
  },
  {
   "cell_type": "code",
   "execution_count": 45,
   "metadata": {},
   "outputs": [
    {
     "name": "stdout",
     "output_type": "stream",
     "text": [
      "{'a': '01', 'b': '02', 'c': '03', 'd': '04', 'e': '05', 'f': '06', 'g': '07', 'h': '08', 'i': '09', 'j': '10', 'k': '11', 'l': '12', 'm': '13', 'n': '14', 'o': '15', 'p': '16', 'q': '17', 'r': '18', 's': '19', 't': '20', 'u': '21', 'v': '22', 'w': '23', 'x': '24', 'y': '25', 'z': '26', ' ': '27'}\n",
      "{'01': 'a', '02': 'b', '03': 'c', '04': 'd', '05': 'e', '06': 'f', '07': 'g', '08': 'h', '09': 'i', '10': 'j', '11': 'k', '12': 'l', '13': 'm', '14': 'n', '15': 'o', '16': 'p', '17': 'q', '18': 'r', '19': 's', '20': 't', '21': 'u', '22': 'v', '23': 'w', '24': 'x', '25': 'y', '26': 'z', '27': ' '}\n"
     ]
    }
   ],
   "source": [
    "#Verify\n",
    "print(alphabet_dictionary)\n",
    "print(number_dictionary)"
   ]
  },
  {
   "cell_type": "code",
   "execution_count": 34,
   "metadata": {},
   "outputs": [
    {
     "name": "stdout",
     "output_type": "stream",
     "text": [
      "17\n"
     ]
    }
   ],
   "source": [
    "#Convert text to numbers.\n",
    "text = \"Koalas love water\"\n",
    "print(len(text))\n",
    "number = \"\"\n",
    "for letter in text.lower():\n",
    "    number += str(alphabet_dictionary[letter])"
   ]
  },
  {
   "cell_type": "code",
   "execution_count": 49,
   "metadata": {},
   "outputs": [
    {
     "name": "stdout",
     "output_type": "stream",
     "text": [
      "1115011201192712152205272301200518 34 <class 'str'>\n"
     ]
    }
   ],
   "source": [
    "print(number,len(number),type(number))"
   ]
  },
  {
   "cell_type": "code",
   "execution_count": 68,
   "metadata": {},
   "outputs": [
    {
     "name": "stdout",
     "output_type": "stream",
     "text": [
      "koalas love water\n"
     ]
    }
   ],
   "source": [
    "#Convert numbers to text\n",
    "\n",
    "#chunk string\n",
    "import textwrap\n",
    "chunks = textwrap.wrap(number,2) #takes a string, outputs a list of the string chunked after every n.\n",
    "#convert to text\n",
    "new_text = \"\"\n",
    "for i in chunks:\n",
    "    new_text = new_text+str(number_dictionary[i])\n",
    "print(new_text)"
   ]
  },
  {
   "cell_type": "code",
   "execution_count": null,
   "metadata": {},
   "outputs": [],
   "source": []
  }
 ],
 "metadata": {
  "kernelspec": {
   "display_name": "Python 3",
   "language": "python",
   "name": "python3"
  },
  "language_info": {
   "codemirror_mode": {
    "name": "ipython",
    "version": 3
   },
   "file_extension": ".py",
   "mimetype": "text/x-python",
   "name": "python",
   "nbconvert_exporter": "python",
   "pygments_lexer": "ipython3",
   "version": "3.7.3"
  }
 },
 "nbformat": 4,
 "nbformat_minor": 2
}
